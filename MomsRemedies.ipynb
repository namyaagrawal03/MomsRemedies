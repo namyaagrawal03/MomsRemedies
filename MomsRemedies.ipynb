{
  "cells": [
    {
      "cell_type": "markdown",
      "metadata": {
        "id": "view-in-github",
        "colab_type": "text"
      },
      "source": [
        "<a href=\"https://colab.research.google.com/github/namyaagrawal03/MomsRemedies/blob/main/MomsRemedies.ipynb\" target=\"_parent\"><img src=\"https://colab.research.google.com/assets/colab-badge.svg\" alt=\"Open In Colab\"/></a>"
      ]
    },
    {
      "cell_type": "code",
      "execution_count": 1,
      "metadata": {
        "id": "ndVra59YRdzB",
        "colab": {
          "base_uri": "https://localhost:8080/"
        },
        "outputId": "73cac8c2-71b5-4d76-d379-98f810960309"
      },
      "outputs": [
        {
          "output_type": "stream",
          "name": "stderr",
          "text": [
            "[nltk_data] Downloading package punkt to /root/nltk_data...\n",
            "[nltk_data]   Unzipping tokenizers/punkt.zip.\n",
            "[nltk_data] Downloading package wordnet to /root/nltk_data...\n"
          ]
        }
      ],
      "source": [
        "import nltk\n",
        "import pandas as pd\n",
        "nltk.download('punkt')\n",
        "nltk.download('wordnet')\n",
        "from nltk.corpus import wordnet\n",
        "import json\n",
        "from nltk.tokenize import word_tokenize\n",
        "import random\n",
        "import spacy"
      ]
    },
    {
      "cell_type": "code",
      "source": [],
      "metadata": {
        "id": "idsTpg-seqUE"
      },
      "execution_count": null,
      "outputs": []
    },
    {
      "cell_type": "code",
      "execution_count": 22,
      "metadata": {
        "id": "NC3TF53oQgzd",
        "colab": {
          "base_uri": "https://localhost:8080/"
        },
        "outputId": "9e067094-4e29-49b0-f63a-c665e5bc7253"
      },
      "outputs": [
        {
          "output_type": "stream",
          "name": "stdout",
          "text": [
            "Drive already mounted at /content/drive; to attempt to forcibly remount, call drive.mount(\"/content/drive\", force_remount=True).\n"
          ]
        }
      ],
      "source": [
        "from google.colab import drive\n",
        "drive.mount(\"/content/drive\")\n",
        "tag_responses=pd.read_json(\"/content/drive/MyDrive/intents (1).json\")"
      ]
    },
    {
      "cell_type": "code",
      "execution_count": 23,
      "metadata": {
        "id": "stoz26_csj7z"
      },
      "outputs": [],
      "source": [
        "# Initialize NLP\n",
        "nlp = spacy.load(\"en_core_web_sm\")\n",
        "\n",
        "# Function to preprocess text\n",
        "def preprocess_text(text):\n",
        "    doc = nlp(text)\n",
        "    return \" \".join([token.lemma_ for token in doc if not token.is_punct])"
      ]
    },
    {
      "cell_type": "code",
      "execution_count": 17,
      "metadata": {
        "id": "fcpvUZwYsmSs"
      },
      "outputs": [],
      "source": [
        "# Function to get a random response from the intent\n",
        "def get_response(intent):\n",
        "    return random.choice(intent['responses'])\n",
        "\n",
        "# Function to find synonyms using WordNet\n",
        "def get_synonyms(word):\n",
        "    synonyms = set()\n",
        "    for synset in wordnet.synsets(word):\n",
        "        for lemma in synset.lemmas():\n",
        "            synonyms.add(lemma.name())\n",
        "    return list(synonyms)"
      ]
    },
    {
      "cell_type": "code",
      "execution_count": 18,
      "metadata": {
        "id": "71DAfK3d3iO6"
      },
      "outputs": [],
      "source": [
        "from sklearn.feature_extraction.text import TfidfVectorizer\n",
        "from sklearn.tree import DecisionTreeClassifier\n",
        "from sklearn.model_selection import train_test_split"
      ]
    },
    {
      "cell_type": "code",
      "source": [
        "y"
      ],
      "metadata": {
        "id": "BHDr16BNivu_"
      },
      "execution_count": null,
      "outputs": []
    },
    {
      "cell_type": "code",
      "execution_count": 32,
      "metadata": {
        "id": "HdmQDJ93ROuz"
      },
      "outputs": [],
      "source": [
        "# Main chat function\n",
        "def chat():\n",
        "    print(\"Chatbot: Hello! How can I help you today?\")\n",
        "\n",
        "    while True:\n",
        "        user_input = input(\"You: \")\n",
        "        user_input = preprocess_text(user_input)\n",
        "        tokens = word_tokenize(user_input)\n",
        "\n",
        "        exit_phrases = {\"exit\",\"no\"}\n",
        "\n",
        "    #checking if any exit phrases are in the user input\n",
        "        if any (phrase in tokens for phrase in exit_phrases):\n",
        "            print(\"Chatbot: Goodbye, have a nice day !\")\n",
        "            break\n",
        "\n",
        "        found_intent = None\n",
        "        for intent in tag_responses[\"intents\"]:\n",
        "            for pattern in intent[\"patterns\"]:\n",
        "                for token in tokens:\n",
        "                    if token in pattern.split() or token in get_synonyms(pattern):\n",
        "                        found_intent = intent\n",
        "                        break\n",
        "\n",
        "        if found_intent:\n",
        "            response = get_response(found_intent)\n",
        "            print(\"Chatbot:\", response)\n",
        "        else:\n",
        "            print(\"Chatbot: Sorry, I cannot recommend you remedies based on your input\")\n",
        "            break\n"
      ]
    },
    {
      "cell_type": "code",
      "execution_count": 33,
      "metadata": {
        "colab": {
          "base_uri": "https://localhost:8080/"
        },
        "id": "-KmjZL-sspLs",
        "outputId": "c0cc5ba9-4025-4a6b-eb01-9fb573edfb04"
      },
      "outputs": [
        {
          "output_type": "stream",
          "name": "stdout",
          "text": [
            "Chatbot: Hello! How can I help you today?\n",
            "You: hi\n",
            "Chatbot: Hi there, what can I do for you?\n",
            "You: I have high fever\n",
            "Chatbot: You might be experiencing fever.Drinking fluids in the form of water, juices and soups might help reduce fever. Your doctor might also recommend oral rehydration solution (ORS). It is commonly available at any medical store.\n",
            "You: Thanks\n",
            "Chatbot: Happy to help!\n",
            "You: Exit\n",
            "Chatbot: Goodbye, have a nice day !\n"
          ]
        }
      ],
      "source": [
        "if __name__ == \"__main__\":\n",
        "    chat()\n"
      ]
    },
    {
      "cell_type": "code",
      "execution_count": null,
      "metadata": {
        "id": "rWGe7zwHstiM"
      },
      "outputs": [],
      "source": []
    }
  ],
  "metadata": {
    "colab": {
      "provenance": [],
      "authorship_tag": "ABX9TyPxN4tN5lpC041vYVu5Jrx5",
      "include_colab_link": true
    },
    "kernelspec": {
      "display_name": "Python 3",
      "name": "python3"
    },
    "language_info": {
      "name": "python"
    }
  },
  "nbformat": 4,
  "nbformat_minor": 0
}